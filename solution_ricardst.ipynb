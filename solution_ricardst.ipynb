{
 "cells": [
  {
   "cell_type": "markdown",
   "id": "f16163d2dd773fbc",
   "metadata": {
    "collapsed": false
   },
   "source": [
    "# Task 3\n",
    "This serves as a template which will guide you through the implementation of this task. It is advised to first read the whole template and get a sense of the overall structure of the code before trying to fill in any of the TODO gaps.\n",
    "This is the jupyter notebook version of the template. For the python file version, please refer to the file `template_solution.py`."
   ]
  },
  {
   "cell_type": "markdown",
   "id": "c95f1a3a9db8e3f9",
   "metadata": {
    "collapsed": false
   },
   "source": [
    "First, we import necessary libraries:"
   ]
  },
  {
   "cell_type": "code",
   "execution_count": 5,
   "id": "824a840beb8b323e",
   "metadata": {
    "collapsed": false
   },
   "outputs": [],
   "source": [
    "import numpy as np\n",
    "from torchvision import transforms\n",
    "from torch.utils.data import DataLoader, TensorDataset\n",
    "import os\n",
    "import torch\n",
    "from torchvision import transforms\n",
    "import torchvision.datasets as datasets\n",
    "import torch.nn as nn\n",
    "import torch.nn.functional as F\n",
    "import torchvision.models as models\n",
    "from torchvision.datasets import ImageFolder\n",
    "from torch.utils.data import DataLoader\n",
    "# Add any other imports you need here"
   ]
  },
  {
   "cell_type": "code",
   "execution_count": 6,
   "id": "82adb41ca8c23be6",
   "metadata": {
    "collapsed": false
   },
   "outputs": [],
   "source": [
    "# The device is automatically set to GPU if available, otherwise CPU\n",
    "# If you want to force the device to CPU, you can change the line to\n",
    "# device = torch.device(\"cpu\")\n",
    "# When using the GPU, it is important that your model and all data are on the \n",
    "# same device.\n",
    "device = torch.device(\"cuda:0\" if torch.cuda.is_available() else \"cpu\")"
   ]
  },
  {
   "cell_type": "code",
   "execution_count": 8,
   "id": "6b3d5c760c9c963b",
   "metadata": {
    "collapsed": false
   },
   "outputs": [
    {
     "name": "stderr",
     "output_type": "stream",
     "text": [
      "Downloading: \"https://download.pytorch.org/models/resnet50-11ad3fa6.pth\" to C:\\Users\\betsy/.cache\\torch\\hub\\checkpoints\\resnet50-11ad3fa6.pth\n",
      "100.0%\n"
     ]
    }
   ],
   "source": [
    "\"\"\"\n",
    "Transform, resize and normalize the images and then use a pretrained model to extract \n",
    "the embeddings.\n",
    "\"\"\"\n",
    "# TODO: define a transform to pre-process the images\n",
    "# The required pre-processing depends on the pre-trained model you choose \n",
    "# below. \n",
    "# See https://pytorch.org/vision/stable/models.html#using-the-pre-trained-models\n",
    "train_transforms = transforms.Compose([\n",
    "    transforms.Resize(256),            # Resize the image to 256x256 pixels\n",
    "    transforms.CenterCrop(224),        # Crop the image to 224x224 pixels\n",
    "    transforms.ToTensor(),             # Convert the image to a tensor\n",
    "    transforms.Normalize(mean=[0.485, 0.456, 0.406], std=[0.229, 0.224, 0.225]) # Values from ImageNet dataset used to train the model\n",
    "])\n",
    "\n",
    "train_dataset = datasets.ImageFolder(root=\"dataset/\", transform=train_transforms)\n",
    "# Hint: adjust batch_size and num_workers to your PC configuration, so that you don't \n",
    "# run out of memory (VRAM if on GPU, RAM if on CPU)\n",
    "train_loader = DataLoader(dataset=train_dataset,\n",
    "                          batch_size=4,\n",
    "                          shuffle=False,\n",
    "                          pin_memory=True, num_workers=4)\n",
    "\n",
    "# TODO: define a model for extraction of the embeddings (Hint: load a pretrained model,\n",
    "# more info here: https://pytorch.org/vision/stable/models.html)\n",
    "# Load a pre-trained ResNet-50 model\n",
    "\n",
    "model = models.resnet50(weights='IMAGENET1K_V2')\n",
    "\n",
    "# Remove the last fully connected layer to use the model as a fixed feature extractor\n",
    "class FeatureExtractor(nn.Module):\n",
    "    def __init__(self, model):\n",
    "        super(FeatureExtractor, self).__init__()\n",
    "        # Everything except the final layer\n",
    "        self.features = nn.Sequential(*list(model.children())[:-1])\n",
    "\n",
    "    def forward(self, x):\n",
    "        x = self.features(x)\n",
    "        # Flatten the output for each image\n",
    "        x = torch.flatten(x, 1)\n",
    "        return x\n",
    "\n",
    "# Instantiate the feature extractor\n",
    "feature_extractor = FeatureExtractor(model)\n",
    "\n",
    "# Move the model to GPU if available\n",
    "device = torch.device(\"cuda\" if torch.cuda.is_available() else \"cpu\")\n",
    "feature_extractor.to(device)\n",
    "feature_extractor.eval()  # Set the model to evaluation mode\n",
    "\n",
    "# Embedding size from ResNet-50's penultimate layer\n",
    "embedding_size = 2048  # This is the number of features before the final layer in ResNet-50\n",
    "num_images = len(train_dataset)\n",
    "embeddings = np.zeros((num_images, embedding_size))\n",
    "\n",
    "# TODO: Use the model to extract the embeddings. Hint: remove the last layers of the \n",
    "# model to access the embeddings the model generates. \n",
    "\n",
    "with torch.no_grad():  # No need to compute gradients (for faster processing)\n",
    "    start = 0\n",
    "    for images, _ in train_loader:\n",
    "        images = images.to(device)\n",
    "        outputs = feature_extractor(images)\n",
    "        batch_size = images.size(0)\n",
    "        embeddings[start:start + batch_size] = outputs.cpu().numpy()\n",
    "        start += batch_size\n",
    "\n",
    "# Save embeddings to a numpy file\n",
    "np.save('dataset/embeddings.npy', embeddings)"
   ]
  },
  {
   "cell_type": "code",
   "execution_count": 9,
   "id": "335d91cc379d4f6b",
   "metadata": {
    "collapsed": false
   },
   "outputs": [],
   "source": [
    "def get_data(file, train=True):\n",
    "    \"\"\"\n",
    "    Load the triplets from the file and generate the features and labels.\n",
    "\n",
    "    input: file: string, the path to the file containing the triplets\n",
    "          train: boolean, whether the data is for training or testing\n",
    "\n",
    "    output: X: numpy array, the features\n",
    "            y: numpy array, the labels\n",
    "    \"\"\"\n",
    "    \n",
    "    triplets = []\n",
    "    with open(file) as f:\n",
    "        for line in f:\n",
    "            triplets.append(line.strip())\n",
    "\n",
    "    # Load the dataset to map filenames to embeddings\n",
    "\n",
    "    train_dataset = ImageFolder(root=\"dataset/\")\n",
    "    filenames = [s[0].split('/')[-1].replace('.jpg', '') for s in train_dataset.samples]\n",
    "    embeddings = np.load('dataset/embeddings.npy')\n",
    "\n",
    "    # Normalize the embeddings\n",
    "    from sklearn.preprocessing import normalize\n",
    "    embeddings = normalize(embeddings, norm='l2')\n",
    "\n",
    "    file_to_embedding = {}\n",
    "    for i, filename in enumerate(filenames):\n",
    "        file_to_embedding[filename] = embeddings[i]\n",
    "\n",
    "    X = []\n",
    "    y = []\n",
    "    # Use the individual embeddings to generate the features and labels for triplets\n",
    "    for triplet in triplets:\n",
    "        a, b, c = triplet.split()\n",
    "        emb_a = file_to_embedding[a]\n",
    "        emb_b = file_to_embedding[b]\n",
    "        emb_c = file_to_embedding[c]\n",
    "        X.append(np.hstack([emb_a, emb_b, emb_c]))\n",
    "        y.append(1)  # Positive example: A is more similar to B than to C\n",
    "        # Generating negative samples (data augmentation)\n",
    "        if train:\n",
    "            X.append(np.hstack([emb_a, emb_c, emb_b]))\n",
    "            y.append(0)  # Negative example: A is more similar to C than to B (flipped)\n",
    "\n",
    "    X = np.vstack(X)\n",
    "    y = np.hstack(y)\n",
    "    return X, y"
   ]
  },
  {
   "cell_type": "markdown",
   "id": "abc48f07a1c0c478",
   "metadata": {
    "collapsed": false
   },
   "source": [
    "Hint: adjust batch_size and num_workers to your PC configuration, so that you don't run out of memory (VRAM if on GPU, RAM if on CPU)"
   ]
  },
  {
   "cell_type": "code",
   "execution_count": 10,
   "id": "6daf836a4adb0abe",
   "metadata": {
    "collapsed": false
   },
   "outputs": [],
   "source": [
    "def create_loader_from_np(X, y = None, train = True, batch_size=64, shuffle=True, num_workers = 4):\n",
    "    \"\"\"\n",
    "    Create a torch.utils.data.DataLoader object from numpy arrays containing the data.\n",
    "\n",
    "    input: X: numpy array, the features\n",
    "           y: numpy array, the labels\n",
    "    \n",
    "    output: loader: torch.data.util.DataLoader, the object containing the data\n",
    "    \"\"\"\n",
    "    if train:\n",
    "        # Attention: If you get type errors you can modify the type of the\n",
    "        # labels here\n",
    "        dataset = TensorDataset(torch.from_numpy(X).type(torch.float), \n",
    "                                torch.from_numpy(y).type(torch.long))\n",
    "    else:\n",
    "        dataset = TensorDataset(torch.from_numpy(X).type(torch.float))\n",
    "    loader = DataLoader(dataset=dataset,\n",
    "                        batch_size=batch_size,\n",
    "                        shuffle=shuffle,\n",
    "                        pin_memory=True, num_workers=num_workers)\n",
    "    return loader"
   ]
  },
  {
   "cell_type": "markdown",
   "id": "e1baa5918f11a049",
   "metadata": {
    "collapsed": false
   },
   "source": [
    "TODO: define a model. Here, the basic structure is defined, but you need to fill in the details"
   ]
  },
  {
   "cell_type": "code",
   "execution_count": 11,
   "id": "fcd11318eb7b9488",
   "metadata": {
    "collapsed": false
   },
   "outputs": [],
   "source": [
    "class Net(nn.Module):\n",
    "    \"\"\"\n",
    "    The model class, which defines our classifier for the similarity between dishes based on embeddings.\n",
    "    \"\"\"\n",
    "    def __init__(self):\n",
    "        \"\"\"\n",
    "        The constructor of the model.\n",
    "        \"\"\"\n",
    "        super(Net, self).__init__()\n",
    "        # Assuming the input x is a concatenated embedding vector of A, B, C embeddings each of size 2048,\n",
    "        # thus the input dimension to the first linear layer would be 2048*3=6144\n",
    "        # Adjust the input size to match your actual embedding concatenation size\n",
    "        self.fc1 = nn.Linear(6144, 1024)  # First layer\n",
    "        self.fc2 = nn.Linear(1024, 128)   # Second layer\n",
    "        self.fc3 = nn.Linear(128, 1)      # Output layer\n",
    "\n",
    "    def forward(self, x):\n",
    "        \"\"\"\n",
    "        The forward pass of the model.\n",
    "\n",
    "        input: x: torch.Tensor, the input to the model\n",
    "\n",
    "        output: x: torch.Tensor, the output of the model\n",
    "        \"\"\"\n",
    "        x = F.relu(self.fc1(x))  # Activation function for first layer\n",
    "        x = F.relu(self.fc2(x))  # Activation function for second layer\n",
    "        x = torch.sigmoid(self.fc3(x))  # Sigmoid activation function for output layer\n",
    "        return x"
   ]
  },
  {
   "cell_type": "code",
   "execution_count": 12,
   "id": "6e1b0092e0b13f88",
   "metadata": {
    "collapsed": false
   },
   "outputs": [
    {
     "ename": "KeyError",
     "evalue": "'02461'",
     "output_type": "error",
     "traceback": [
      "\u001b[1;31m---------------------------------------------------------------------------\u001b[0m",
      "\u001b[1;31mKeyError\u001b[0m                                  Traceback (most recent call last)",
      "Cell \u001b[1;32mIn[12], line 4\u001b[0m\n\u001b[0;32m      1\u001b[0m TRAIN_TRIPLETS \u001b[38;5;241m=\u001b[39m \u001b[38;5;124m'\u001b[39m\u001b[38;5;124mtrain_triplets.txt\u001b[39m\u001b[38;5;124m'\u001b[39m\n\u001b[0;32m      3\u001b[0m \u001b[38;5;66;03m# load the training data\u001b[39;00m\n\u001b[1;32m----> 4\u001b[0m X, y \u001b[38;5;241m=\u001b[39m \u001b[43mget_data\u001b[49m\u001b[43m(\u001b[49m\u001b[43mTRAIN_TRIPLETS\u001b[49m\u001b[43m)\u001b[49m\n\u001b[0;32m      5\u001b[0m \u001b[38;5;66;03m# Create data loaders for the training data\u001b[39;00m\n\u001b[0;32m      6\u001b[0m train_loader \u001b[38;5;241m=\u001b[39m create_loader_from_np(X, y, train \u001b[38;5;241m=\u001b[39m \u001b[38;5;28;01mTrue\u001b[39;00m, batch_size\u001b[38;5;241m=\u001b[39m\u001b[38;5;241m64\u001b[39m)\n",
      "Cell \u001b[1;32mIn[9], line 46\u001b[0m, in \u001b[0;36mget_data\u001b[1;34m(file, train)\u001b[0m\n\u001b[0;32m     44\u001b[0m \u001b[38;5;28;01mfor\u001b[39;00m triplet \u001b[38;5;129;01min\u001b[39;00m triplets:\n\u001b[0;32m     45\u001b[0m     a, b, c \u001b[38;5;241m=\u001b[39m triplet\u001b[38;5;241m.\u001b[39msplit()\n\u001b[1;32m---> 46\u001b[0m     emb_a \u001b[38;5;241m=\u001b[39m \u001b[43mfile_to_embedding\u001b[49m\u001b[43m[\u001b[49m\u001b[43ma\u001b[49m\u001b[43m]\u001b[49m\n\u001b[0;32m     47\u001b[0m     emb_b \u001b[38;5;241m=\u001b[39m file_to_embedding[b]\n\u001b[0;32m     48\u001b[0m     emb_c \u001b[38;5;241m=\u001b[39m file_to_embedding[c]\n",
      "\u001b[1;31mKeyError\u001b[0m: '02461'"
     ]
    }
   ],
   "source": [
    "TRAIN_TRIPLETS = 'train_triplets.txt'\n",
    "\n",
    "# load the training data\n",
    "X, y = get_data(TRAIN_TRIPLETS)\n",
    "# Create data loaders for the training data\n",
    "train_loader = create_loader_from_np(X, y, train = True, batch_size=64)\n",
    "# delete the loaded training data to save memory, as the data loader copies\n",
    "del X\n",
    "del y"
   ]
  },
  {
   "cell_type": "code",
   "execution_count": null,
   "metadata": {},
   "outputs": [],
   "source": [
    "TEST_TRIPLETS = 'test_triplets.txt'\n",
    "\n",
    "# repeat for testing data\n",
    "X_test, y_test = get_data(TEST_TRIPLETS, train=False)\n",
    "test_loader = create_loader_from_np(X_test, train = False, batch_size=2048, shuffle=False)\n",
    "del X_test\n",
    "del y_test"
   ]
  },
  {
   "cell_type": "code",
   "execution_count": null,
   "id": "28634c90281cd699",
   "metadata": {
    "collapsed": false
   },
   "outputs": [],
   "source": [
    "\"\"\"\n",
    "The training procedure of the model; it accepts the training data, defines the model \n",
    "and then trains it.\n",
    "\n",
    "input: train_loader: torch.data.util.DataLoader, the object containing the training data\n",
    "    \n",
    "compute: model: torch.nn.Module, the trained model\n",
    "\"\"\"\n",
    "model = Net()\n",
    "model.train()\n",
    "model.to(device)\n",
    "n_epochs = 10\n",
    "# TODO: define a loss function, optimizer and proceed with training. Hint: use the part \n",
    "# of the training data as a validation split. After each epoch, compute the loss on the \n",
    "# validation split and print it out. This enables you to see how your model is performing \n",
    "# on the validation data before submitting the results on the server. After choosing the \n",
    "# best model, train it on the whole training data.\n",
    "for epoch in range(n_epochs):        \n",
    "    for [X, y] in train_loader:\n",
    "        pass"
   ]
  },
  {
   "cell_type": "code",
   "execution_count": null,
   "id": "b2ea99b26c348253",
   "metadata": {
    "collapsed": false
   },
   "outputs": [],
   "source": [
    "\"\"\"\n",
    "The testing procedure of the model; it accepts the testing data and the trained model and \n",
    "then tests the model on it.\n",
    "\n",
    "input: model: torch.nn.Module, the trained model\n",
    "       loader: torch.data.util.DataLoader, the object containing the testing data\n",
    "        \n",
    "compute: None, the function saves the predictions to a results.txt file\n",
    "\"\"\"\n",
    "model.eval()\n",
    "predictions = []\n",
    "# Iterate over the test data\n",
    "with torch.no_grad(): # We don't need to compute gradients for testing\n",
    "    for [x_batch] in test_loader:\n",
    "        x_batch= x_batch.to(device)\n",
    "        predicted = model(x_batch)\n",
    "        predicted = predicted.cpu().numpy()\n",
    "        # Rounding the predictions to 0 or 1\n",
    "        predicted[predicted >= 0.5] = 1\n",
    "        predicted[predicted < 0.5] = 0\n",
    "        predictions.append(predicted)\n",
    "    predictions = np.vstack(predictions)\n",
    "np.savetxt(\"results.txt\", predictions, fmt='%i')\n",
    "print(\"Results saved to results.txt\")"
   ]
  }
 ],
 "metadata": {
  "kernelspec": {
   "display_name": "Python 3",
   "language": "python",
   "name": "python3"
  },
  "language_info": {
   "codemirror_mode": {
    "name": "ipython",
    "version": 3
   },
   "file_extension": ".py",
   "mimetype": "text/x-python",
   "name": "python",
   "nbconvert_exporter": "python",
   "pygments_lexer": "ipython3",
   "version": "3.10.13"
  }
 },
 "nbformat": 4,
 "nbformat_minor": 5
}
